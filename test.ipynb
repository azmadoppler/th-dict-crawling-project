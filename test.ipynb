{
 "cells": [
  {
   "cell_type": "code",
   "execution_count": 1,
   "id": "e44a302c",
   "metadata": {},
   "outputs": [],
   "source": [
    "from bs4 import BeautifulSoup\n",
    "import requests\n",
    "#245356\n",
    "#https://j-doradic.com/eng-jp/show/245356\n",
    "url = \"https://j-doradic.com/eng-jp?q=a&searchPosition=searchBetween&page=1\"\n",
    "result = requests.get(url)\n",
    "\n",
    "doc = BeautifulSoup(result.text,\"html.parser\")\n",
    "tbody = doc.tbody\n",
    "trs = tbody.contents\n",
    "\n"
   ]
  },
  {
   "cell_type": "code",
   "execution_count": 108,
   "id": "d3e6aab9",
   "metadata": {},
   "outputs": [
    {
     "name": "stdout",
     "output_type": "stream",
     "text": [
      "アットマーク\n",
      "アットけい\n",
      "おなじ\n",
      "おなじく\n",
      "しめ\n"
     ]
    }
   ],
   "source": [
    "\n",
    "count = 0\n",
    "for tr in trs:\n",
    "    try:\n",
    "        inner_content = tr.contents[1]\n",
    "        kanji = inner_content.a.next\n",
    "        temp = inner_content.find_all(['h3'])\n",
    "        word = temp[0].next.next\n",
    "        meaning = temp[1].next.next\n",
    "        print(word)\n",
    "    except:\n",
    "        continue\n",
    "    #print(tr)\n",
    "    count= count+1\n",
    "    if count == 5:\n",
    "        break\n",
    "\n"
   ]
  },
  {
   "cell_type": "code",
   "execution_count": 68,
   "id": "d70f4287",
   "metadata": {},
   "outputs": [],
   "source": [
    "\n",
    "print(trs[3].contents[1].a.next)\n",
    "temp = trs[3].contents[1].find_all(['h3'])\n",
    "word = temp[0].next.next\n",
    "meaning = temp[1].next.next\n",
    "print(word)\n",
    "print(meaning)\n",
    "\n",
    "\n",
    "test = trs[3].contents[1].find_all(['h3'])\n"
   ]
  },
  {
   "cell_type": "code",
   "execution_count": 98,
   "id": "2e59b32f",
   "metadata": {},
   "outputs": [
    {
     "data": {
      "text/plain": [
       "<th scope=\"row\">\n",
       "<h2 data-placement=\"top\" data-toggle=\"tooltip\" title=\"คลิกเพื่อดูความหมาย ＠系\"><a href=\"/eng-jp/show/67179\">＠系</a> <small>(Kanji)</small> </h2>\n",
       "<h3><a href=\"/eng-jp/show/67179\">アットけい</a> <small>(Yomikata)</small></h3>\n",
       "<h3><a href=\"/eng-jp/show/67179\">roguelike (character display computer game)</a> <small>(Eng)</small></h3>\n",
       "</th>"
      ]
     },
     "execution_count": 98,
     "metadata": {},
     "output_type": "execute_result"
    }
   ],
   "source": [
    "trs[3].contents[1]"
   ]
  },
  {
   "cell_type": "code",
   "execution_count": 105,
   "id": "52eb9848",
   "metadata": {},
   "outputs": [
    {
     "ename": "NameError",
     "evalue": "name 'innter_content' is not defined",
     "output_type": "error",
     "traceback": [
      "\u001b[1;31m---------------------------------------------------------------------------\u001b[0m",
      "\u001b[1;31mNameError\u001b[0m                                 Traceback (most recent call last)",
      "\u001b[1;32m<ipython-input-105-c987fc09274a>\u001b[0m in \u001b[0;36m<module>\u001b[1;34m\u001b[0m\n\u001b[0;32m      1\u001b[0m \u001b[0mtr\u001b[0m \u001b[1;33m=\u001b[0m \u001b[0mtrs\u001b[0m\u001b[1;33m[\u001b[0m\u001b[1;36m3\u001b[0m\u001b[1;33m]\u001b[0m\u001b[1;33m\u001b[0m\u001b[1;33m\u001b[0m\u001b[0m\n\u001b[0;32m      2\u001b[0m \u001b[0minner_content\u001b[0m \u001b[1;33m=\u001b[0m \u001b[0mtr\u001b[0m\u001b[1;33m.\u001b[0m\u001b[0mcontents\u001b[0m\u001b[1;33m[\u001b[0m\u001b[1;36m1\u001b[0m\u001b[1;33m]\u001b[0m\u001b[1;33m\u001b[0m\u001b[1;33m\u001b[0m\u001b[0m\n\u001b[1;32m----> 3\u001b[1;33m \u001b[0mkanji\u001b[0m \u001b[1;33m=\u001b[0m \u001b[0minnter_content\u001b[0m\u001b[1;33m.\u001b[0m\u001b[0ma\u001b[0m\u001b[1;33m.\u001b[0m\u001b[0mnext\u001b[0m\u001b[1;33m\u001b[0m\u001b[1;33m\u001b[0m\u001b[0m\n\u001b[0m\u001b[0;32m      4\u001b[0m \u001b[0mtemp\u001b[0m \u001b[1;33m=\u001b[0m \u001b[0minnter_content\u001b[0m\u001b[1;33m.\u001b[0m\u001b[0mfind_all\u001b[0m\u001b[1;33m(\u001b[0m\u001b[1;33m[\u001b[0m\u001b[1;34m'h3'\u001b[0m\u001b[1;33m]\u001b[0m\u001b[1;33m)\u001b[0m\u001b[1;33m\u001b[0m\u001b[1;33m\u001b[0m\u001b[0m\n\u001b[0;32m      5\u001b[0m \u001b[0mword\u001b[0m \u001b[1;33m=\u001b[0m \u001b[0mtemp\u001b[0m\u001b[1;33m[\u001b[0m\u001b[1;36m0\u001b[0m\u001b[1;33m]\u001b[0m\u001b[1;33m.\u001b[0m\u001b[0mnext\u001b[0m\u001b[1;33m.\u001b[0m\u001b[0mnext\u001b[0m\u001b[1;33m\u001b[0m\u001b[1;33m\u001b[0m\u001b[0m\n",
      "\u001b[1;31mNameError\u001b[0m: name 'innter_content' is not defined"
     ]
    }
   ],
   "source": [
    "tr = trs[3]\n",
    "inner_content = tr.contents[1]\n",
    "kanji = innter_content.a.next\n",
    "temp = innter_content.find_all(['h3'])\n",
    "word = temp[0].next.next\n",
    "meaning = temp[1].next.next\n",
    "\n",
    "#print(tr)\n",
    "count= count+1\n",
    "if count == 5:\n",
    "    break\n"
   ]
  }
 ],
 "metadata": {
  "kernelspec": {
   "display_name": "Python 3",
   "language": "python",
   "name": "python3"
  },
  "language_info": {
   "codemirror_mode": {
    "name": "ipython",
    "version": 3
   },
   "file_extension": ".py",
   "mimetype": "text/x-python",
   "name": "python",
   "nbconvert_exporter": "python",
   "pygments_lexer": "ipython3",
   "version": "3.8.8"
  }
 },
 "nbformat": 4,
 "nbformat_minor": 5
}
